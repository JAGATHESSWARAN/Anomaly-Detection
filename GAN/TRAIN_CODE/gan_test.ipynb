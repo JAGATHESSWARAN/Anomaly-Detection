{
 "cells": [
  {
   "cell_type": "code",
   "execution_count": 3,
   "id": "b4bacf6b-ad0b-4482-b7b3-39d567a04394",
   "metadata": {},
   "outputs": [
    {
     "name": "stdout",
     "output_type": "stream",
     "text": [
      "Prediction Results:\n",
      "Predicted Class: 1 (0 = Benign, 1 = Malicious)\n",
      "Probability of Class 0 (Benign): 0.0237\n",
      "Probability of Class 1 (Malicious): 0.9763\n"
     ]
    }
   ],
   "source": [
    "import xgboost as xgb\n",
    "import pandas as pd\n",
    "import numpy as np\n",
    "\n",
    "# Load the trained model\n",
    "model = xgb.XGBClassifier()\n",
    "model.load_model('xgboost_model_reduced.json')\n",
    "\n",
    "# Define the feature names (must match the features used during training)\n",
    "features = ['Machine', 'DebugSize', 'DebugRVA', 'MajorImageVersion', 'MajorOSVersion',\n",
    "            'ExportRVA', 'ExportSize', 'IatVRA', 'MajorLinkerVersion', 'MinorLinkerVersion',\n",
    "            'NumberOfSections', 'SizeOfStackReserve', 'DllCharacteristics', 'ResourceSize',\n",
    "            'BitcoinAddresses']\n",
    "\n",
    "def make_prediction(input_data):\n",
    "    \"\"\"\n",
    "    Make predictions using the loaded XGBoost model.\n",
    "    input_data: Dictionary or list with feature values\n",
    "    Returns: Predicted class (0 or 1) and probability\n",
    "    \"\"\"\n",
    "    # Convert input to DataFrame\n",
    "    if isinstance(input_data, dict):\n",
    "        input_df = pd.DataFrame([input_data], columns=features)\n",
    "    elif isinstance(input_data, list):\n",
    "        input_df = pd.DataFrame([input_data], columns=features)\n",
    "    else:\n",
    "        raise ValueError(\"Input must be a dictionary or list with feature values\")\n",
    "\n",
    "    # Ensure all required features are present\n",
    "    missing_features = [f for f in features if f not in input_df.columns]\n",
    "    if missing_features:\n",
    "        raise ValueError(f\"Missing features: {missing_features}\")\n",
    "\n",
    "    # Make prediction\n",
    "    prediction = model.predict(input_df)[0]\n",
    "    probability = model.predict_proba(input_df)[0]\n",
    "\n",
    "    return {\n",
    "        'predicted_class': int(prediction),\n",
    "        'probability_class_0': float(probability[0]),\n",
    "        'probability_class_1': float(probability[1])\n",
    "    }\n",
    "\n",
    "# Example usage: Replace with your input data\n",
    "example_input = {\n",
    "    'Machine': 333,\n",
    "    'DebugSize': 0,\n",
    "    'DebugRVA': 0,\n",
    "    'MajorImageVersion': 4,\n",
    "    'MajorOSVersion': 16180.533,\n",
    "    'ExportRVA': 0.14,\n",
    "    'ExportSize': 0.14,\n",
    "    'IatVRA': 250,\n",
    "    'MajorLinkerVersion': 6.2,\n",
    "    'MinorLinkerVersion': 3,\n",
    "    'NumberOfSections': 3,\n",
    "    'SizeOfStackReserve': 1048576,\n",
    "    'DllCharacteristics': 0,\n",
    "    'ResourceSize': 0,\n",
    "    'BitcoinAddresses': 7\n",
    "}\n",
    "\n",
    "# Make prediction\n",
    "result = make_prediction(example_input)\n",
    "print(\"Prediction Results:\")\n",
    "print(f\"Predicted Class: {result['predicted_class']} (0 = Benign, 1 = Malicious)\")\n",
    "print(f\"Probability of Class 0 (Benign): {result['probability_class_0']:.4f}\")\n",
    "print(f\"Probability of Class 1 (Malicious): {result['probability_class_1']:.4f}\")"
   ]
  },
  {
   "cell_type": "code",
   "execution_count": null,
   "id": "48000d35-7cab-4a68-bc2b-43393471302d",
   "metadata": {},
   "outputs": [],
   "source": []
  }
 ],
 "metadata": {
  "kernelspec": {
   "display_name": "Python 3 (ipykernel)",
   "language": "python",
   "name": "python3"
  },
  "language_info": {
   "codemirror_mode": {
    "name": "ipython",
    "version": 3
   },
   "file_extension": ".py",
   "mimetype": "text/x-python",
   "name": "python",
   "nbconvert_exporter": "python",
   "pygments_lexer": "ipython3",
   "version": "3.12.0"
  }
 },
 "nbformat": 4,
 "nbformat_minor": 5
}
